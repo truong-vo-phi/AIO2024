{
 "cells": [
  {
   "cell_type": "code",
   "execution_count": 74,
   "metadata": {},
   "outputs": [],
   "source": [
    "import numpy as np"
   ]
  },
  {
   "cell_type": "code",
   "execution_count": 75,
   "metadata": {},
   "outputs": [],
   "source": [
    "source = \"#yu\"\n",
    "target = \"#your\""
   ]
  },
  {
   "cell_type": "code",
   "execution_count": 76,
   "metadata": {},
   "outputs": [],
   "source": [
    "d = np.zeros((len(source),len(target)))"
   ]
  },
  {
   "cell_type": "code",
   "execution_count": 77,
   "metadata": {},
   "outputs": [],
   "source": [
    "value_source = 0\n",
    "for i in range(len(source)):\n",
    "    d[i][0] = value_source\n",
    "    value_source += 1\n",
    "\n",
    "value_target = 0\n",
    "for j in range(len(target)):\n",
    "    d[0][j] = value_target\n",
    "    value_target += 1\n",
    "    \n",
    "d_row, d_column = d.shape"
   ]
  },
  {
   "cell_type": "code",
   "execution_count": 78,
   "metadata": {},
   "outputs": [
    {
     "data": {
      "text/plain": [
       "False"
      ]
     },
     "execution_count": 78,
     "metadata": {},
     "output_type": "execute_result"
    }
   ],
   "source": [
    "d[0][0] == 1"
   ]
  },
  {
   "cell_type": "code",
   "execution_count": 79,
   "metadata": {},
   "outputs": [],
   "source": [
    "d = d.astype(np.int64)"
   ]
  },
  {
   "cell_type": "code",
   "execution_count": 80,
   "metadata": {},
   "outputs": [
    {
     "data": {
      "text/plain": [
       "(3, 5)"
      ]
     },
     "execution_count": 80,
     "metadata": {},
     "output_type": "execute_result"
    }
   ],
   "source": [
    "d_row, d_column"
   ]
  },
  {
   "cell_type": "code",
   "execution_count": 81,
   "metadata": {},
   "outputs": [],
   "source": [
    "def cost(a,b):\n",
    "    if source[a] != target[b]:\n",
    "        return 1\n",
    "    else:\n",
    "        return 0"
   ]
  },
  {
   "cell_type": "code",
   "execution_count": 87,
   "metadata": {},
   "outputs": [
    {
     "name": "stdout",
     "output_type": "stream",
     "text": [
      "D[0][1] + del_cost(source[1]) = 1  +  1  =  2\n",
      "D[1][0] + ins_cost(target[1]) = 1  +  1  =  2\n",
      "D[0][0] + sub_cost(source[1],target[1]) = 0  +  0  =  0\n",
      "D[1][1] = min =  0\n",
      "---------------------------------\n",
      "D[1][1] + del_cost(source[2]) = 0  +  1  =  1\n",
      "D[2][0] + ins_cost(target[1]) = 2  +  1  =  3\n",
      "D[1][0] + sub_cost(source[2],target[1]) = 1  +  1  =  2\n",
      "D[2][1] = min =  1\n",
      "---------------------------------\n",
      "D[0][2] + del_cost(source[1]) = 2  +  1  =  3\n",
      "D[1][1] + ins_cost(target[2]) = 0  +  1  =  1\n",
      "D[0][1] + sub_cost(source[1],target[2]) = 1  +  1  =  2\n",
      "D[1][2] = min =  1\n",
      "---------------------------------\n",
      "D[1][2] + del_cost(source[2]) = 1  +  1  =  2\n",
      "D[2][1] + ins_cost(target[2]) = 1  +  1  =  2\n",
      "D[1][1] + sub_cost(source[2],target[2]) = 0  +  1  =  1\n",
      "D[2][2] = min =  1\n",
      "---------------------------------\n",
      "D[0][3] + del_cost(source[1]) = 3  +  1  =  4\n",
      "D[1][2] + ins_cost(target[3]) = 1  +  1  =  2\n",
      "D[0][2] + sub_cost(source[1],target[3]) = 2  +  1  =  3\n",
      "D[1][3] = min =  2\n",
      "---------------------------------\n",
      "D[1][3] + del_cost(source[2]) = 2  +  1  =  3\n",
      "D[2][2] + ins_cost(target[3]) = 1  +  1  =  2\n",
      "D[1][2] + sub_cost(source[2],target[3]) = 1  +  0  =  1\n",
      "D[2][3] = min =  1\n",
      "---------------------------------\n",
      "D[0][4] + del_cost(source[1]) = 4  +  1  =  5\n",
      "D[1][3] + ins_cost(target[4]) = 2  +  1  =  3\n",
      "D[0][3] + sub_cost(source[1],target[4]) = 3  +  1  =  4\n",
      "D[1][4] = min =  3\n",
      "---------------------------------\n",
      "D[1][4] + del_cost(source[2]) = 3  +  1  =  4\n",
      "D[2][3] + ins_cost(target[4]) = 1  +  1  =  2\n",
      "D[1][3] + sub_cost(source[2],target[4]) = 2  +  1  =  3\n",
      "D[2][4] = min =  2\n",
      "---------------------------------\n"
     ]
    }
   ],
   "source": [
    "for j in range(1,d_column): # i: current row, j: current column\n",
    "    for i in range(1,d_row): # initialize row_start index\n",
    "        print(f'D[{i-1}][{j}] + del_cost(source[{i}])',end=' = ')\n",
    "        print(d[i-1][j],' + ',cost(i,0),' = ',d[i-1][j] + cost(i,0))\n",
    "        print(f'D[{i}][{j-1}] + ins_cost(target[{j}])', end=' = ')\n",
    "        print(d[i][j-1],' + ',cost(0,j),' = ',d[i][j-1] + cost(0,j))\n",
    "        print(f'D[{i-1}][{j-1}] + sub_cost(source[{i}],target[{j}])',end=' = ')\n",
    "        print(d[i-1][j-1],' + ',cost(i,j),' = ',d[i-1][j-1] + cost(i,j))\n",
    "        d[i][j] = min(d[i-1][j] + cost(i,0), d[i][j-1] + cost(0,j), d[i-1][j-1] + cost(i,j))\n",
    "        print(f'D[{i}][{j}] = min =  {d[i][j]}')\n",
    "        print('---------------------------------')"
   ]
  },
  {
   "cell_type": "code",
   "execution_count": 83,
   "metadata": {},
   "outputs": [
    {
     "data": {
      "text/plain": [
       "array([[0, 1, 2, 3, 4],\n",
       "       [1, 0, 1, 2, 3],\n",
       "       [2, 1, 1, 1, 2]], dtype=int64)"
      ]
     },
     "execution_count": 83,
     "metadata": {},
     "output_type": "execute_result"
    }
   ],
   "source": [
    "d"
   ]
  },
  {
   "cell_type": "code",
   "execution_count": 84,
   "metadata": {},
   "outputs": [
    {
     "name": "stdout",
     "output_type": "stream",
     "text": [
      "Khoảng cách Levenshtein giữa 2 chuỗi là: 2\n"
     ]
    }
   ],
   "source": [
    "print(f'Khoảng cách Levenshtein giữa 2 chuỗi là: {int(d[d_row-1][d_column-1])}')"
   ]
  }
 ],
 "metadata": {
  "kernelspec": {
   "display_name": "Python 3",
   "language": "python",
   "name": "python3"
  },
  "language_info": {
   "codemirror_mode": {
    "name": "ipython",
    "version": 3
   },
   "file_extension": ".py",
   "mimetype": "text/x-python",
   "name": "python",
   "nbconvert_exporter": "python",
   "pygments_lexer": "ipython3",
   "version": "3.12.3"
  }
 },
 "nbformat": 4,
 "nbformat_minor": 2
}
